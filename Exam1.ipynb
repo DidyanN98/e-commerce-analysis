{
  "metadata": {
    "kernelspec": {
      "name": "python",
      "display_name": "Python (Pyodide)",
      "language": "python"
    },
    "language_info": {
      "codemirror_mode": {
        "name": "python",
        "version": 3
      },
      "file_extension": ".py",
      "mimetype": "text/x-python",
      "name": "python",
      "nbconvert_exporter": "python",
      "pygments_lexer": "ipython3",
      "version": "3.8"
    }
  },
  "nbformat_minor": 5,
  "nbformat": 4,
  "cells": [
    {
      "cell_type": "code",
      "source": "import pandas as pd\nimport numpy as np\n\nfrom datetime import date",
      "metadata": {
        "trusted": true
      },
      "execution_count": 5,
      "outputs": [],
      "id": "f536e8d0-95dc-4cc8-952b-c045ea2c89f8"
    },
    {
      "cell_type": "markdown",
      "source": "### Importando dataset e-commerce\n\nPara mas informacion del dataset, consulte en el siguiente [link](https://www.kaggle.com/datasets/carrie1/ecommerce-data) ",
      "metadata": {},
      "id": "585e931c-47dd-4420-b433-65546f980570"
    },
    {
      "cell_type": "code",
      "source": "ecommerce = pd.read_csv(\"data.csv\")",
      "metadata": {
        "trusted": true
      },
      "execution_count": 6,
      "outputs": [],
      "id": "9015229e-beac-4546-bf9d-deeecec148f8"
    },
    {
      "cell_type": "code",
      "source": "ecommerce.head(5)",
      "metadata": {
        "trusted": true
      },
      "execution_count": 7,
      "outputs": [
        {
          "execution_count": 7,
          "output_type": "execute_result",
          "data": {
            "text/plain": "  InvoiceNo StockCode                          Description  Quantity  \\\n0    536365    85123A   WHITE HANGING HEART T-LIGHT HOLDER         6   \n1    536365     71053                  WHITE METAL LANTERN         6   \n2    536365    84406B       CREAM CUPID HEARTS COAT HANGER         8   \n3    536365    84029G  KNITTED UNION FLAG HOT WATER BOTTLE         6   \n4    536365    84029E       RED WOOLLY HOTTIE WHITE HEART.         6   \n\n      InvoiceDate  UnitPrice  CustomerID         Country  \n0  12/1/2010 8:26       2.55     17850.0  United Kingdom  \n1  12/1/2010 8:26       3.39     17850.0  United Kingdom  \n2  12/1/2010 8:26       2.75     17850.0  United Kingdom  \n3  12/1/2010 8:26       3.39     17850.0  United Kingdom  \n4  12/1/2010 8:26       3.39     17850.0  United Kingdom  ",
            "text/html": "<div>\n<style scoped>\n    .dataframe tbody tr th:only-of-type {\n        vertical-align: middle;\n    }\n\n    .dataframe tbody tr th {\n        vertical-align: top;\n    }\n\n    .dataframe thead th {\n        text-align: right;\n    }\n</style>\n<table border=\"1\" class=\"dataframe\">\n  <thead>\n    <tr style=\"text-align: right;\">\n      <th></th>\n      <th>InvoiceNo</th>\n      <th>StockCode</th>\n      <th>Description</th>\n      <th>Quantity</th>\n      <th>InvoiceDate</th>\n      <th>UnitPrice</th>\n      <th>CustomerID</th>\n      <th>Country</th>\n    </tr>\n  </thead>\n  <tbody>\n    <tr>\n      <th>0</th>\n      <td>536365</td>\n      <td>85123A</td>\n      <td>WHITE HANGING HEART T-LIGHT HOLDER</td>\n      <td>6</td>\n      <td>12/1/2010 8:26</td>\n      <td>2.55</td>\n      <td>17850.0</td>\n      <td>United Kingdom</td>\n    </tr>\n    <tr>\n      <th>1</th>\n      <td>536365</td>\n      <td>71053</td>\n      <td>WHITE METAL LANTERN</td>\n      <td>6</td>\n      <td>12/1/2010 8:26</td>\n      <td>3.39</td>\n      <td>17850.0</td>\n      <td>United Kingdom</td>\n    </tr>\n    <tr>\n      <th>2</th>\n      <td>536365</td>\n      <td>84406B</td>\n      <td>CREAM CUPID HEARTS COAT HANGER</td>\n      <td>8</td>\n      <td>12/1/2010 8:26</td>\n      <td>2.75</td>\n      <td>17850.0</td>\n      <td>United Kingdom</td>\n    </tr>\n    <tr>\n      <th>3</th>\n      <td>536365</td>\n      <td>84029G</td>\n      <td>KNITTED UNION FLAG HOT WATER BOTTLE</td>\n      <td>6</td>\n      <td>12/1/2010 8:26</td>\n      <td>3.39</td>\n      <td>17850.0</td>\n      <td>United Kingdom</td>\n    </tr>\n    <tr>\n      <th>4</th>\n      <td>536365</td>\n      <td>84029E</td>\n      <td>RED WOOLLY HOTTIE WHITE HEART.</td>\n      <td>6</td>\n      <td>12/1/2010 8:26</td>\n      <td>3.39</td>\n      <td>17850.0</td>\n      <td>United Kingdom</td>\n    </tr>\n  </tbody>\n</table>\n</div>"
          },
          "metadata": {}
        }
      ],
      "id": "29f93f92-c02b-499f-90a2-bbfdfedc181d"
    },
    {
      "cell_type": "code",
      "source": "ecommerce.shape",
      "metadata": {
        "trusted": true
      },
      "execution_count": 8,
      "outputs": [
        {
          "execution_count": 8,
          "output_type": "execute_result",
          "data": {
            "text/plain": "(541909, 8)"
          },
          "metadata": {}
        }
      ],
      "id": "3f1a91b1-2a14-4e75-8c45-417b78cf1310"
    },
    {
      "cell_type": "markdown",
      "source": "### cast de fechas y tratamiento de columnas Dias, mes, año",
      "metadata": {},
      "id": "8650b37c-cd28-4923-ae94-908dadf4bf69"
    },
    {
      "cell_type": "code",
      "source": "ecommerce.dtypes",
      "metadata": {
        "trusted": true
      },
      "execution_count": 9,
      "outputs": [
        {
          "execution_count": 9,
          "output_type": "execute_result",
          "data": {
            "text/plain": "InvoiceNo       object\nStockCode       object\nDescription     object\nQuantity         int64\nInvoiceDate     object\nUnitPrice      float64\nCustomerID     float64\nCountry         object\ndtype: object"
          },
          "metadata": {}
        }
      ],
      "id": "4523f5e7-902a-4057-b5c7-66c9eea3e63f"
    },
    {
      "cell_type": "code",
      "source": "ecommerce[\"InvoiceDate\"] = pd.to_datetime(ecommerce[\"InvoiceDate\"])",
      "metadata": {
        "trusted": true
      },
      "execution_count": 245,
      "outputs": [],
      "id": "1b6dc6a7-c51b-445f-89df-7a8da46950bb"
    },
    {
      "cell_type": "code",
      "source": "ecommerce.dtypes",
      "metadata": {
        "trusted": true
      },
      "execution_count": 14,
      "outputs": [
        {
          "execution_count": 14,
          "output_type": "execute_result",
          "data": {
            "text/plain": "InvoiceNo              object\nStockCode              object\nDescription            object\nQuantity                int64\nInvoiceDate    datetime64[ns]\nUnitPrice             float64\nCustomerID            float64\nCountry                object\ndtype: object"
          },
          "metadata": {}
        }
      ],
      "id": "5948f0a8-8a04-4bd0-b111-919ce302e0a8"
    },
    {
      "cell_type": "code",
      "source": "ecommerce.head(1)",
      "metadata": {
        "trusted": true
      },
      "execution_count": 15,
      "outputs": [
        {
          "execution_count": 15,
          "output_type": "execute_result",
          "data": {
            "text/plain": "  InvoiceNo StockCode                         Description  Quantity  \\\n0    536365    85123A  WHITE HANGING HEART T-LIGHT HOLDER         6   \n\n          InvoiceDate  UnitPrice  CustomerID         Country  \n0 2010-12-01 08:26:00       2.55     17850.0  United Kingdom  ",
            "text/html": "<div>\n<style scoped>\n    .dataframe tbody tr th:only-of-type {\n        vertical-align: middle;\n    }\n\n    .dataframe tbody tr th {\n        vertical-align: top;\n    }\n\n    .dataframe thead th {\n        text-align: right;\n    }\n</style>\n<table border=\"1\" class=\"dataframe\">\n  <thead>\n    <tr style=\"text-align: right;\">\n      <th></th>\n      <th>InvoiceNo</th>\n      <th>StockCode</th>\n      <th>Description</th>\n      <th>Quantity</th>\n      <th>InvoiceDate</th>\n      <th>UnitPrice</th>\n      <th>CustomerID</th>\n      <th>Country</th>\n    </tr>\n  </thead>\n  <tbody>\n    <tr>\n      <th>0</th>\n      <td>536365</td>\n      <td>85123A</td>\n      <td>WHITE HANGING HEART T-LIGHT HOLDER</td>\n      <td>6</td>\n      <td>2010-12-01 08:26:00</td>\n      <td>2.55</td>\n      <td>17850.0</td>\n      <td>United Kingdom</td>\n    </tr>\n  </tbody>\n</table>\n</div>"
          },
          "metadata": {}
        }
      ],
      "id": "3bf11eef-d788-4bfd-b5f0-37768065e74c"
    },
    {
      "cell_type": "code",
      "source": "ecommerce[\"year\"] = ecommerce[\"InvoiceDate\"].dt.year\necommerce[\"month\"] = ecommerce[\"InvoiceDate\"].dt.month\necommerce[\"day\"] = ecommerce[\"InvoiceDate\"].dt.day\n    ",
      "metadata": {
        "trusted": true
      },
      "execution_count": 71,
      "outputs": [],
      "id": "31abe82c-bd2d-4dfa-adfb-46fc2919743d"
    },
    {
      "cell_type": "code",
      "source": "ecommerce.head(1)",
      "metadata": {
        "trusted": true
      },
      "execution_count": 72,
      "outputs": [
        {
          "execution_count": 72,
          "output_type": "execute_result",
          "data": {
            "text/plain": "  InvoiceNo StockCode                         Description  Quantity  \\\n0    536365    85123A  WHITE HANGING HEART T-LIGHT HOLDER         6   \n\n          InvoiceDate  UnitPrice  CustomerID         Country  year  month  day  \n0 2010-12-01 08:26:00       2.55     17850.0  United Kingdom  2010     12    1  ",
            "text/html": "<div>\n<style scoped>\n    .dataframe tbody tr th:only-of-type {\n        vertical-align: middle;\n    }\n\n    .dataframe tbody tr th {\n        vertical-align: top;\n    }\n\n    .dataframe thead th {\n        text-align: right;\n    }\n</style>\n<table border=\"1\" class=\"dataframe\">\n  <thead>\n    <tr style=\"text-align: right;\">\n      <th></th>\n      <th>InvoiceNo</th>\n      <th>StockCode</th>\n      <th>Description</th>\n      <th>Quantity</th>\n      <th>InvoiceDate</th>\n      <th>UnitPrice</th>\n      <th>CustomerID</th>\n      <th>Country</th>\n      <th>year</th>\n      <th>month</th>\n      <th>day</th>\n    </tr>\n  </thead>\n  <tbody>\n    <tr>\n      <th>0</th>\n      <td>536365</td>\n      <td>85123A</td>\n      <td>WHITE HANGING HEART T-LIGHT HOLDER</td>\n      <td>6</td>\n      <td>2010-12-01 08:26:00</td>\n      <td>2.55</td>\n      <td>17850.0</td>\n      <td>United Kingdom</td>\n      <td>2010</td>\n      <td>12</td>\n      <td>1</td>\n    </tr>\n  </tbody>\n</table>\n</div>"
          },
          "metadata": {}
        }
      ],
      "id": "8d470a46-bd5c-4346-bbce-04172ab0592c"
    },
    {
      "cell_type": "markdown",
      "source": "#### Exploracion de paises",
      "metadata": {},
      "id": "44b41184-9937-4ca6-85a8-11bb254c26fc"
    },
    {
      "cell_type": "code",
      "source": "ecommerce[\"Country\"].drop_duplicates()",
      "metadata": {
        "trusted": true
      },
      "execution_count": 18,
      "outputs": [
        {
          "execution_count": 18,
          "output_type": "execute_result",
          "data": {
            "text/plain": "0               United Kingdom\n26                      France\n197                  Australia\n385                Netherlands\n1109                   Germany\n1236                    Norway\n1404                      EIRE\n5320               Switzerland\n6421                     Spain\n6608                    Poland\n7134                  Portugal\n7214                     Italy\n7279                   Belgium\n7986                 Lithuania\n9783                     Japan\n14938                  Iceland\n20000          Channel Islands\n20017                  Denmark\n29732                   Cyprus\n30078                   Sweden\n31464                  Austria\n31982                   Israel\n34083                  Finland\n38313                  Bahrain\n69007                   Greece\n69623                Hong Kong\n70758                Singapore\n72985                  Lebanon\n89570     United Arab Emirates\n100810            Saudi Arabia\n103598          Czech Republic\n119191                  Canada\n152712             Unspecified\n157299                  Brazil\n164464                     USA\n168149      European Community\n217684                   Malta\n395472                     RSA\nName: Country, dtype: object"
          },
          "metadata": {}
        }
      ],
      "id": "46440f57-adfa-497f-a35d-ebf67b2d5a63"
    },
    {
      "cell_type": "markdown",
      "source": "### Ejercicios",
      "metadata": {},
      "id": "59467bac-70e6-495b-ad2a-151cafb1fd81"
    },
    {
      "cell_type": "markdown",
      "source": "**Ejercicio 1:** Por pais muestre cual fue el año en el que mejor ingreso se registro y su valor, adicional muestre cual fue el año con mas Invoices (Frecuencia) y otra columna con el total.\n\nNota: Note que el año con mejor ingreso no es lo mismo con el año con mas invoices, por ejemplo en 2019 Honduras en dos invoices se facturo 10,000. sin embargo, en 2020 se realizaron 20 invoices (pueda que en este año el ingreso de esas invoices hayan sumado 7,000 inferior al 2020) \n\n*recuerde que el ejemplo es inventado*\n\nEjemplo de como se deberia de ver el dataframe resultante:\n",
      "metadata": {},
      "id": "70bb9dfe-ecad-4be0-a0fa-c480d8a1f897"
    },
    {
      "cell_type": "code",
      "source": "pd.DataFrame({\n    \"country\" : [\"Honduras\"]\n    , \"YearMejorIngreso\" : [2019]\n    , \"ValorYearMejorIngreso\" : [20000]\n    , \"YearMejorFrecuenciaInvoices\": [2020]\n    , \"CantidadYearMejorFrecuenciaInvoices\": [20]\n})",
      "metadata": {},
      "execution_count": 15,
      "outputs": [
        {
          "execution_count": 15,
          "output_type": "execute_result",
          "data": {
            "text/html": [
              "<div>\n",
              "<style scoped>\n",
              "    .dataframe tbody tr th:only-of-type {\n",
              "        vertical-align: middle;\n",
              "    }\n",
              "\n",
              "    .dataframe tbody tr th {\n",
              "        vertical-align: top;\n",
              "    }\n",
              "\n",
              "    .dataframe thead th {\n",
              "        text-align: right;\n",
              "    }\n",
              "</style>\n",
              "<table border=\"1\" class=\"dataframe\">\n",
              "  <thead>\n",
              "    <tr style=\"text-align: right;\">\n",
              "      <th></th>\n",
              "      <th>country</th>\n",
              "      <th>YearMejorIngreso</th>\n",
              "      <th>ValorYearMejorIngreso</th>\n",
              "      <th>YearMejorFrecuenciaInvoices</th>\n",
              "      <th>CantidadYearMejorFrecuenciaInvoices</th>\n",
              "    </tr>\n",
              "  </thead>\n",
              "  <tbody>\n",
              "    <tr>\n",
              "      <th>0</th>\n",
              "      <td>Honduras</td>\n",
              "      <td>2019</td>\n",
              "      <td>20000</td>\n",
              "      <td>2020</td>\n",
              "      <td>20</td>\n",
              "    </tr>\n",
              "  </tbody>\n",
              "</table>\n",
              "</div>"
            ],
            "text/plain": [
              "    country  YearMejorIngreso  ValorYearMejorIngreso  \\\n",
              "0  Honduras              2019                  20000   \n",
              "\n",
              "   YearMejorFrecuenciaInvoices  CantidadYearMejorFrecuenciaInvoices  \n",
              "0                         2020                                   20  "
            ]
          },
          "metadata": {}
        }
      ],
      "id": "55fe6436-310a-419a-81e0-6afcb8d382fe"
    },
    {
      "cell_type": "markdown",
      "source": "## Answer:",
      "metadata": {},
      "id": "cff03062-89d2-4e55-b2ee-29c492828efa"
    },
    {
      "cell_type": "code",
      "source": "df =  pd.read_csv(\"data.csv\")",
      "metadata": {
        "trusted": true
      },
      "execution_count": 75,
      "outputs": [],
      "id": "a1e38abc-f65e-4dbe-8606-5c41ddb3b665"
    },
    {
      "cell_type": "code",
      "source": "df[\"InvoiceDate\"] = pd.to_datetime(df[\"InvoiceDate\"])",
      "metadata": {
        "trusted": true
      },
      "execution_count": 82,
      "outputs": [],
      "id": "4dda8897-fd9e-49c6-9c6e-84b388073684"
    },
    {
      "cell_type": "code",
      "source": "df[\"year\"] = df[\"InvoiceDate\"].dt.year",
      "metadata": {
        "trusted": true
      },
      "execution_count": 83,
      "outputs": [],
      "id": "fa724baf-bbab-4872-abcf-d4ab6c2b4fc4"
    },
    {
      "cell_type": "code",
      "source": "df.astype({'UnitPrice': 'int32'}).dtypes",
      "metadata": {
        "trusted": true
      },
      "execution_count": 40,
      "outputs": [
        {
          "execution_count": 40,
          "output_type": "execute_result",
          "data": {
            "text/plain": "InvoiceNo       object\nStockCode       object\nDescription     object\nQuantity         int64\nInvoiceDate     object\nUnitPrice        int32\nCustomerID     float64\nCountry         object\ndtype: object"
          },
          "metadata": {}
        }
      ],
      "id": "d8021903-4eed-4efb-b77e-ee9891c7f449"
    },
    {
      "cell_type": "code",
      "source": "Paises =df.loc[:,[\"year\",\"UnitPrice\"]].groupby([\"year\"]).count()\n",
      "metadata": {
        "trusted": true
      },
      "execution_count": 246,
      "outputs": [],
      "id": "ee7dcc2f-c012-488d-90f0-63f0b62d724d"
    },
    {
      "cell_type": "code",
      "source": "ej1=df.groupby([\"Country\",\"year\"], as_index=False).agg({\"UnitPrice\":[\"count\"]})",
      "metadata": {
        "trusted": true
      },
      "execution_count": 218,
      "outputs": [],
      "id": "ca0b0d2c-5ce1-40b6-a44f-d36bec8c3da3"
    },
    {
      "cell_type": "code",
      "source": "ej1.sort_values(by=\"year\", ascending=False)",
      "metadata": {
        "trusted": true
      },
      "execution_count": 223,
      "outputs": [
        {
          "execution_count": 223,
          "output_type": "execute_result",
          "data": {
            "text/plain": "         Country  year UnitPrice\n                           count\n60   Unspecified  2011       446\n48  Saudi Arabia  2011        10\n25       Germany  2011      8930\n26        Greece  2011       146\n27     Hong Kong  2011       288\n..           ...   ...       ...\n28       Iceland  2010        31\n32         Italy  2010        41\n34         Japan  2010        65\n37     Lithuania  2010        35\n30        Israel  2010         2\n\n[61 rows x 3 columns]",
            "text/html": "<div>\n<style scoped>\n    .dataframe tbody tr th:only-of-type {\n        vertical-align: middle;\n    }\n\n    .dataframe tbody tr th {\n        vertical-align: top;\n    }\n\n    .dataframe thead tr th {\n        text-align: left;\n    }\n</style>\n<table border=\"1\" class=\"dataframe\">\n  <thead>\n    <tr>\n      <th></th>\n      <th>Country</th>\n      <th>year</th>\n      <th>UnitPrice</th>\n    </tr>\n    <tr>\n      <th></th>\n      <th></th>\n      <th></th>\n      <th>count</th>\n    </tr>\n  </thead>\n  <tbody>\n    <tr>\n      <th>60</th>\n      <td>Unspecified</td>\n      <td>2011</td>\n      <td>446</td>\n    </tr>\n    <tr>\n      <th>48</th>\n      <td>Saudi Arabia</td>\n      <td>2011</td>\n      <td>10</td>\n    </tr>\n    <tr>\n      <th>25</th>\n      <td>Germany</td>\n      <td>2011</td>\n      <td>8930</td>\n    </tr>\n    <tr>\n      <th>26</th>\n      <td>Greece</td>\n      <td>2011</td>\n      <td>146</td>\n    </tr>\n    <tr>\n      <th>27</th>\n      <td>Hong Kong</td>\n      <td>2011</td>\n      <td>288</td>\n    </tr>\n    <tr>\n      <th>...</th>\n      <td>...</td>\n      <td>...</td>\n      <td>...</td>\n    </tr>\n    <tr>\n      <th>28</th>\n      <td>Iceland</td>\n      <td>2010</td>\n      <td>31</td>\n    </tr>\n    <tr>\n      <th>32</th>\n      <td>Italy</td>\n      <td>2010</td>\n      <td>41</td>\n    </tr>\n    <tr>\n      <th>34</th>\n      <td>Japan</td>\n      <td>2010</td>\n      <td>65</td>\n    </tr>\n    <tr>\n      <th>37</th>\n      <td>Lithuania</td>\n      <td>2010</td>\n      <td>35</td>\n    </tr>\n    <tr>\n      <th>30</th>\n      <td>Israel</td>\n      <td>2010</td>\n      <td>2</td>\n    </tr>\n  </tbody>\n</table>\n<p>61 rows × 3 columns</p>\n</div>"
          },
          "metadata": {}
        }
      ],
      "id": "3b030ffb-192f-4a94-be8e-951438b4fddb"
    },
    {
      "cell_type": "markdown",
      "source": "**Ejercicio 2:** Cual es el Top tres por año de los Invoices de lo mas facturado\n\nEjemplo de como se deberia de ver el dataframe resultante (Recuerde que este es un ejemplo inventado):",
      "metadata": {},
      "id": "3c210dae-b3d4-427f-b3f8-f3aae4ba91c4"
    },
    {
      "cell_type": "code",
      "source": "pd.DataFrame({\n    \"Year\" : [2019,2019,2019,2020,2020,2020]\n    , \"Top\" : [1,2,3,1,2,3]\n    , \"InvoiceNo\" : [536365, 536999, 693365, 24987, 56832, 254232]    \n    , \"TotalInvoice\": [30000,28000,27900,29000,25000,24600]\n})",
      "metadata": {},
      "execution_count": 16,
      "outputs": [
        {
          "execution_count": 16,
          "output_type": "execute_result",
          "data": {
            "text/html": [
              "<div>\n",
              "<style scoped>\n",
              "    .dataframe tbody tr th:only-of-type {\n",
              "        vertical-align: middle;\n",
              "    }\n",
              "\n",
              "    .dataframe tbody tr th {\n",
              "        vertical-align: top;\n",
              "    }\n",
              "\n",
              "    .dataframe thead th {\n",
              "        text-align: right;\n",
              "    }\n",
              "</style>\n",
              "<table border=\"1\" class=\"dataframe\">\n",
              "  <thead>\n",
              "    <tr style=\"text-align: right;\">\n",
              "      <th></th>\n",
              "      <th>Year</th>\n",
              "      <th>Top</th>\n",
              "      <th>InvoiceNo</th>\n",
              "      <th>TotalInvoice</th>\n",
              "    </tr>\n",
              "  </thead>\n",
              "  <tbody>\n",
              "    <tr>\n",
              "      <th>0</th>\n",
              "      <td>2019</td>\n",
              "      <td>1</td>\n",
              "      <td>536365</td>\n",
              "      <td>30000</td>\n",
              "    </tr>\n",
              "    <tr>\n",
              "      <th>1</th>\n",
              "      <td>2019</td>\n",
              "      <td>2</td>\n",
              "      <td>536999</td>\n",
              "      <td>28000</td>\n",
              "    </tr>\n",
              "    <tr>\n",
              "      <th>2</th>\n",
              "      <td>2019</td>\n",
              "      <td>3</td>\n",
              "      <td>693365</td>\n",
              "      <td>27900</td>\n",
              "    </tr>\n",
              "    <tr>\n",
              "      <th>3</th>\n",
              "      <td>2020</td>\n",
              "      <td>1</td>\n",
              "      <td>24987</td>\n",
              "      <td>29000</td>\n",
              "    </tr>\n",
              "    <tr>\n",
              "      <th>4</th>\n",
              "      <td>2020</td>\n",
              "      <td>2</td>\n",
              "      <td>56832</td>\n",
              "      <td>25000</td>\n",
              "    </tr>\n",
              "    <tr>\n",
              "      <th>5</th>\n",
              "      <td>2020</td>\n",
              "      <td>3</td>\n",
              "      <td>254232</td>\n",
              "      <td>24600</td>\n",
              "    </tr>\n",
              "  </tbody>\n",
              "</table>\n",
              "</div>"
            ],
            "text/plain": [
              "   Year  Top  InvoiceNo  TotalInvoice\n",
              "0  2019    1     536365         30000\n",
              "1  2019    2     536999         28000\n",
              "2  2019    3     693365         27900\n",
              "3  2020    1      24987         29000\n",
              "4  2020    2      56832         25000\n",
              "5  2020    3     254232         24600"
            ]
          },
          "metadata": {}
        }
      ],
      "id": "ab5cae1b-b89b-45ef-9b19-eca935d61211"
    },
    {
      "cell_type": "markdown",
      "source": "## Answer:",
      "metadata": {},
      "id": "3fdb5a72-ecda-4731-b43c-1d3027807a79"
    },
    {
      "cell_type": "code",
      "source": "df[\"TotalInvoice\"] = df[\"Quantity\"] * df[\"UnitPrice\"]",
      "metadata": {
        "trusted": true
      },
      "execution_count": 239,
      "outputs": [],
      "id": "49121429-3b75-452d-a0a2-06e3bbaea31a"
    },
    {
      "cell_type": "code",
      "source": "tabla=df.loc[:,[\"year\", \"InvoiceNo\",\"TotalInvoice\"]].groupby([\"year\"]).min()",
      "metadata": {
        "trusted": true
      },
      "execution_count": 243,
      "outputs": [],
      "id": "6f4f6465-96b1-45d1-be24-a074d83df7b8"
    },
    {
      "cell_type": "code",
      "source": "tabla.sort_values(by=\"TotalInvoice\",ascending=True).head(3)",
      "metadata": {
        "trusted": true
      },
      "execution_count": 244,
      "outputs": [
        {
          "execution_count": 244,
          "output_type": "execute_result",
          "data": {
            "text/plain": "     InvoiceNo  TotalInvoice\nyear                        \n2011    539993    -168469.60\n2010    536365     -13541.33",
            "text/html": "<div>\n<style scoped>\n    .dataframe tbody tr th:only-of-type {\n        vertical-align: middle;\n    }\n\n    .dataframe tbody tr th {\n        vertical-align: top;\n    }\n\n    .dataframe thead th {\n        text-align: right;\n    }\n</style>\n<table border=\"1\" class=\"dataframe\">\n  <thead>\n    <tr style=\"text-align: right;\">\n      <th></th>\n      <th>InvoiceNo</th>\n      <th>TotalInvoice</th>\n    </tr>\n    <tr>\n      <th>year</th>\n      <th></th>\n      <th></th>\n    </tr>\n  </thead>\n  <tbody>\n    <tr>\n      <th>2011</th>\n      <td>539993</td>\n      <td>-168469.60</td>\n    </tr>\n    <tr>\n      <th>2010</th>\n      <td>536365</td>\n      <td>-13541.33</td>\n    </tr>\n  </tbody>\n</table>\n</div>"
          },
          "metadata": {}
        }
      ],
      "id": "b7fcc7f5-4331-4e34-86fb-dd4f13367e44"
    },
    {
      "cell_type": "markdown",
      "source": "**Ejercicio 3:** Genere el siguiente Dataset para cada uno de los clientes:",
      "metadata": {},
      "id": "e894a0a7-ca82-496c-8ede-21e238253736"
    },
    {
      "cell_type": "code",
      "source": "pd.DataFrame({\n    \"CustomerID\" : [111,111,111]\n    , \"YearMonth\" : [\"2019-1\",\"2019-2\",\"2019-3\"]\n    , \"TotalValorInvoices\" : [20000,22000,0]    \n    , \"TotalCantidadInvoices\" : [3,2,0]    \n    , \"FacturaSiguienteMes\": [1,0,1]\n})",
      "metadata": {},
      "execution_count": 18,
      "outputs": [
        {
          "execution_count": 18,
          "output_type": "execute_result",
          "data": {
            "text/html": [
              "<div>\n",
              "<style scoped>\n",
              "    .dataframe tbody tr th:only-of-type {\n",
              "        vertical-align: middle;\n",
              "    }\n",
              "\n",
              "    .dataframe tbody tr th {\n",
              "        vertical-align: top;\n",
              "    }\n",
              "\n",
              "    .dataframe thead th {\n",
              "        text-align: right;\n",
              "    }\n",
              "</style>\n",
              "<table border=\"1\" class=\"dataframe\">\n",
              "  <thead>\n",
              "    <tr style=\"text-align: right;\">\n",
              "      <th></th>\n",
              "      <th>CustomerID</th>\n",
              "      <th>YearMonth</th>\n",
              "      <th>TotalValorInvoices</th>\n",
              "      <th>TotalCantidadInvoices</th>\n",
              "      <th>FacturaSiguienteMes</th>\n",
              "    </tr>\n",
              "  </thead>\n",
              "  <tbody>\n",
              "    <tr>\n",
              "      <th>0</th>\n",
              "      <td>111</td>\n",
              "      <td>2019-1</td>\n",
              "      <td>20000</td>\n",
              "      <td>3</td>\n",
              "      <td>1</td>\n",
              "    </tr>\n",
              "    <tr>\n",
              "      <th>1</th>\n",
              "      <td>111</td>\n",
              "      <td>2019-2</td>\n",
              "      <td>22000</td>\n",
              "      <td>2</td>\n",
              "      <td>0</td>\n",
              "    </tr>\n",
              "    <tr>\n",
              "      <th>2</th>\n",
              "      <td>111</td>\n",
              "      <td>2019-3</td>\n",
              "      <td>0</td>\n",
              "      <td>0</td>\n",
              "      <td>1</td>\n",
              "    </tr>\n",
              "  </tbody>\n",
              "</table>\n",
              "</div>"
            ],
            "text/plain": [
              "   CustomerID YearMonth  TotalValorInvoices  TotalCantidadInvoices  \\\n",
              "0         111    2019-1               20000                      3   \n",
              "1         111    2019-2               22000                      2   \n",
              "2         111    2019-3                   0                      0   \n",
              "\n",
              "   FacturaSiguienteMes  \n",
              "0                    1  \n",
              "1                    0  \n",
              "2                    1  "
            ]
          },
          "metadata": {}
        }
      ],
      "id": "c441a2a1-eb4c-4338-85b3-282e5c681076"
    },
    {
      "cell_type": "markdown",
      "source": "*Ten en cuenta lo siguiente:*\n\nMediante el cross join puedo emular el producto cartesiano de dos vectores para obtener las combinaciones unicas de los valores de cada uno de ellos",
      "metadata": {},
      "id": "503648d0-6b5e-4704-be64-56ab14f9b0a9"
    },
    {
      "cell_type": "code",
      "source": "df1 = pd.DataFrame( {\"year\": [2019,2020]} )\ndf2 = pd.DataFrame( {\"Cliente\": [111,112,113]} )\n\ndf2.merge(df1, how='cross')",
      "metadata": {},
      "execution_count": 21,
      "outputs": [
        {
          "execution_count": 21,
          "output_type": "execute_result",
          "data": {
            "text/html": [
              "<div>\n",
              "<style scoped>\n",
              "    .dataframe tbody tr th:only-of-type {\n",
              "        vertical-align: middle;\n",
              "    }\n",
              "\n",
              "    .dataframe tbody tr th {\n",
              "        vertical-align: top;\n",
              "    }\n",
              "\n",
              "    .dataframe thead th {\n",
              "        text-align: right;\n",
              "    }\n",
              "</style>\n",
              "<table border=\"1\" class=\"dataframe\">\n",
              "  <thead>\n",
              "    <tr style=\"text-align: right;\">\n",
              "      <th></th>\n",
              "      <th>Cliente</th>\n",
              "      <th>year</th>\n",
              "    </tr>\n",
              "  </thead>\n",
              "  <tbody>\n",
              "    <tr>\n",
              "      <th>0</th>\n",
              "      <td>111</td>\n",
              "      <td>2019</td>\n",
              "    </tr>\n",
              "    <tr>\n",
              "      <th>1</th>\n",
              "      <td>111</td>\n",
              "      <td>2020</td>\n",
              "    </tr>\n",
              "    <tr>\n",
              "      <th>2</th>\n",
              "      <td>112</td>\n",
              "      <td>2019</td>\n",
              "    </tr>\n",
              "    <tr>\n",
              "      <th>3</th>\n",
              "      <td>112</td>\n",
              "      <td>2020</td>\n",
              "    </tr>\n",
              "    <tr>\n",
              "      <th>4</th>\n",
              "      <td>113</td>\n",
              "      <td>2019</td>\n",
              "    </tr>\n",
              "    <tr>\n",
              "      <th>5</th>\n",
              "      <td>113</td>\n",
              "      <td>2020</td>\n",
              "    </tr>\n",
              "  </tbody>\n",
              "</table>\n",
              "</div>"
            ],
            "text/plain": [
              "   Cliente  year\n",
              "0      111  2019\n",
              "1      111  2020\n",
              "2      112  2019\n",
              "3      112  2020\n",
              "4      113  2019\n",
              "5      113  2020"
            ]
          },
          "metadata": {}
        }
      ],
      "id": "486623c5-ff8e-4ed2-b9c9-9eb70830f526"
    },
    {
      "cell_type": "markdown",
      "source": "*Observaciones:*\n\n* TotalValorInvoices: La suma del total facturado por todas sus facturas\n* TotalCantidadInvoices: La cantidad de facturas unicas realizadas en ese mes\n* FacturaSiguienteMes: Una variable de respuesta que nos dice si al siguiente mes por ese cliente se encontro por lo menos una factura.\n\nNote que por la logica de este dataset el ultimo año-mes encontrado en todo el dataset se va a descartar del resultado final por que no se sabe el valor del siguiente mes. 1: si se encuentra una factura al siguiente mes, 0: no se encuentra nada.\n\n",
      "metadata": {},
      "id": "4479e728-d5ce-4513-8289-2a7f74a15243"
    },
    {
      "cell_type": "markdown",
      "source": "## Answer:",
      "metadata": {},
      "id": "50be3ab4-dba4-4391-b911-ef7152120d47"
    },
    {
      "cell_type": "code",
      "source": "df[\"TotalVlrInvoices\"] = df.groupby(\"CustomerID\").InvoiceNo.sum()",
      "metadata": {
        "trusted": true
      },
      "execution_count": 269,
      "outputs": [],
      "id": "f990d2c9-e833-4390-b6cd-a232c9068228"
    },
    {
      "cell_type": "code",
      "source": "df[\"TotalCntInvoices\"] = (df[\"Quantity\"] * df[\"UnitPrice\"])",
      "metadata": {
        "trusted": true
      },
      "execution_count": 262,
      "outputs": [],
      "id": "c0fbfd9c-be9b-49f0-991c-f51cd82290d3"
    },
    {
      "cell_type": "code",
      "source": "df[\"month\"] = df[\"InvoiceDate\"].dt.month",
      "metadata": {
        "trusted": true
      },
      "execution_count": 230,
      "outputs": [],
      "id": "e03faabf-cc03-4b8f-9218-8961b62b8637"
    },
    {
      "cell_type": "code",
      "source": "df.loc[:,[\"CustomerID\",\"year\",\"month\",\"TotalVlrInvoices\",\"TotalCntInvoices\"]].groupby([\"CustomerID\"]).count()",
      "metadata": {
        "trusted": true
      },
      "execution_count": 270,
      "outputs": [
        {
          "execution_count": 270,
          "output_type": "execute_result",
          "data": {
            "text/plain": "            year  month  TotalVlrInvoices  TotalCntInvoices\nCustomerID                                                 \n12346.0        2      2                 0                 2\n12347.0      182    182                21               182\n12348.0       31     31                 0                31\n12349.0       73     73                 0                73\n12350.0       17     17                 0                17\n...          ...    ...               ...               ...\n18280.0       10     10                 0                10\n18281.0        7      7                 0                 7\n18282.0       13     13                 0                13\n18283.0      756    756                 0               756\n18287.0       70     70                 0                70\n\n[4372 rows x 4 columns]",
            "text/html": "<div>\n<style scoped>\n    .dataframe tbody tr th:only-of-type {\n        vertical-align: middle;\n    }\n\n    .dataframe tbody tr th {\n        vertical-align: top;\n    }\n\n    .dataframe thead th {\n        text-align: right;\n    }\n</style>\n<table border=\"1\" class=\"dataframe\">\n  <thead>\n    <tr style=\"text-align: right;\">\n      <th></th>\n      <th>year</th>\n      <th>month</th>\n      <th>TotalVlrInvoices</th>\n      <th>TotalCntInvoices</th>\n    </tr>\n    <tr>\n      <th>CustomerID</th>\n      <th></th>\n      <th></th>\n      <th></th>\n      <th></th>\n    </tr>\n  </thead>\n  <tbody>\n    <tr>\n      <th>12346.0</th>\n      <td>2</td>\n      <td>2</td>\n      <td>0</td>\n      <td>2</td>\n    </tr>\n    <tr>\n      <th>12347.0</th>\n      <td>182</td>\n      <td>182</td>\n      <td>21</td>\n      <td>182</td>\n    </tr>\n    <tr>\n      <th>12348.0</th>\n      <td>31</td>\n      <td>31</td>\n      <td>0</td>\n      <td>31</td>\n    </tr>\n    <tr>\n      <th>12349.0</th>\n      <td>73</td>\n      <td>73</td>\n      <td>0</td>\n      <td>73</td>\n    </tr>\n    <tr>\n      <th>12350.0</th>\n      <td>17</td>\n      <td>17</td>\n      <td>0</td>\n      <td>17</td>\n    </tr>\n    <tr>\n      <th>...</th>\n      <td>...</td>\n      <td>...</td>\n      <td>...</td>\n      <td>...</td>\n    </tr>\n    <tr>\n      <th>18280.0</th>\n      <td>10</td>\n      <td>10</td>\n      <td>0</td>\n      <td>10</td>\n    </tr>\n    <tr>\n      <th>18281.0</th>\n      <td>7</td>\n      <td>7</td>\n      <td>0</td>\n      <td>7</td>\n    </tr>\n    <tr>\n      <th>18282.0</th>\n      <td>13</td>\n      <td>13</td>\n      <td>0</td>\n      <td>13</td>\n    </tr>\n    <tr>\n      <th>18283.0</th>\n      <td>756</td>\n      <td>756</td>\n      <td>0</td>\n      <td>756</td>\n    </tr>\n    <tr>\n      <th>18287.0</th>\n      <td>70</td>\n      <td>70</td>\n      <td>0</td>\n      <td>70</td>\n    </tr>\n  </tbody>\n</table>\n<p>4372 rows × 4 columns</p>\n</div>"
          },
          "metadata": {}
        }
      ],
      "id": "7ed919d9-5320-4f4e-9862-2ee19141d583"
    },
    {
      "cell_type": "markdown",
      "source": "**Ejercicio 4:** Cual es el top 3 de los productos que menos ingresos generan por Pais del ultimo año encontrado del dataset.\n\nEjemplo de como se deberia de ver el dataframe resultante (Recuerde que este es un ejemplo inventado): ",
      "metadata": {},
      "id": "d043c4cd-ac71-48c8-917f-b649a7df0f84"
    },
    {
      "cell_type": "code",
      "source": "pd.DataFrame({\n    \"Country\" : [\"Canada\",\"Canada\",\"Canada\",\"Spain\",\"Spain\",\"Spain\"]\n    , \"Top\" : [1,2,3,1,2,3]    \n    , \"StockCode\": [546,6886,665,656,888,668]\n    , \"Description\": [\"Product X\",\"Product K\",\"Product J\",\"Product C\",\"Product D\",\"Product U\"]\n    , \"TotalOnInvoices\": [2000,2100,4000,3000,3800,3900]\n})",
      "metadata": {},
      "execution_count": 27,
      "outputs": [
        {
          "execution_count": 27,
          "output_type": "execute_result",
          "data": {
            "text/html": [
              "<div>\n",
              "<style scoped>\n",
              "    .dataframe tbody tr th:only-of-type {\n",
              "        vertical-align: middle;\n",
              "    }\n",
              "\n",
              "    .dataframe tbody tr th {\n",
              "        vertical-align: top;\n",
              "    }\n",
              "\n",
              "    .dataframe thead th {\n",
              "        text-align: right;\n",
              "    }\n",
              "</style>\n",
              "<table border=\"1\" class=\"dataframe\">\n",
              "  <thead>\n",
              "    <tr style=\"text-align: right;\">\n",
              "      <th></th>\n",
              "      <th>Country</th>\n",
              "      <th>Top</th>\n",
              "      <th>StockCode</th>\n",
              "      <th>Description</th>\n",
              "      <th>TotalOnInvoices</th>\n",
              "    </tr>\n",
              "  </thead>\n",
              "  <tbody>\n",
              "    <tr>\n",
              "      <th>0</th>\n",
              "      <td>Canada</td>\n",
              "      <td>1</td>\n",
              "      <td>546</td>\n",
              "      <td>Product X</td>\n",
              "      <td>2000</td>\n",
              "    </tr>\n",
              "    <tr>\n",
              "      <th>1</th>\n",
              "      <td>Canada</td>\n",
              "      <td>2</td>\n",
              "      <td>6886</td>\n",
              "      <td>Product K</td>\n",
              "      <td>2100</td>\n",
              "    </tr>\n",
              "    <tr>\n",
              "      <th>2</th>\n",
              "      <td>Canada</td>\n",
              "      <td>3</td>\n",
              "      <td>665</td>\n",
              "      <td>Product J</td>\n",
              "      <td>4000</td>\n",
              "    </tr>\n",
              "    <tr>\n",
              "      <th>3</th>\n",
              "      <td>Spain</td>\n",
              "      <td>1</td>\n",
              "      <td>656</td>\n",
              "      <td>Product C</td>\n",
              "      <td>3000</td>\n",
              "    </tr>\n",
              "    <tr>\n",
              "      <th>4</th>\n",
              "      <td>Spain</td>\n",
              "      <td>2</td>\n",
              "      <td>888</td>\n",
              "      <td>Product D</td>\n",
              "      <td>3800</td>\n",
              "    </tr>\n",
              "    <tr>\n",
              "      <th>5</th>\n",
              "      <td>Spain</td>\n",
              "      <td>3</td>\n",
              "      <td>668</td>\n",
              "      <td>Product U</td>\n",
              "      <td>3900</td>\n",
              "    </tr>\n",
              "  </tbody>\n",
              "</table>\n",
              "</div>"
            ],
            "text/plain": [
              "  Country  Top  StockCode Description  TotalOnInvoices\n",
              "0  Canada    1        546   Product X             2000\n",
              "1  Canada    2       6886   Product K             2100\n",
              "2  Canada    3        665   Product J             4000\n",
              "3   Spain    1        656   Product C             3000\n",
              "4   Spain    2        888   Product D             3800\n",
              "5   Spain    3        668   Product U             3900"
            ]
          },
          "metadata": {}
        }
      ],
      "id": "ff6a650c-8712-4b8a-b3ed-6e4c35c3c159"
    },
    {
      "cell_type": "markdown",
      "source": "## Answer:",
      "metadata": {},
      "id": "bb2be3fe-1766-4969-abd5-f60a2908d967"
    },
    {
      "cell_type": "code",
      "source": "df[\"TotalOnInvoices\"] = df[\"Quantity\"] * df[\"UnitPrice\"]",
      "metadata": {
        "trusted": true
      },
      "execution_count": 151,
      "outputs": [],
      "id": "ca027bdd-7bf8-43ac-8a0e-0e0748da5b0d"
    },
    {
      "cell_type": "code",
      "source": "ej4=df.loc[:,[\"Country\", \"StockCode\",\"Description\",\"TotalOnInvoices\"]].groupby([\"Country\",\"Description\"]).min()",
      "metadata": {
        "trusted": true
      },
      "execution_count": 183,
      "outputs": [],
      "id": "65fc42f4-bc31-4f6a-aac3-5558feddc1dc"
    },
    {
      "cell_type": "code",
      "source": "ej4.sort_values(by=\"TotalOnInvoices\",ascending=True)",
      "metadata": {
        "trusted": true
      },
      "execution_count": 185,
      "outputs": [
        {
          "execution_count": 185,
          "output_type": "execute_result",
          "data": {
            "text/plain": "                                                  StockCode  TotalOnInvoices\nCountry        Description                                                  \nUnited Kingdom PAPER CRAFT , LITTLE BIRDIE            23843       -168469.60\n               MEDIUM CERAMIC TOP STORAGE JAR         23166        -77183.60\n               Manual                                     M        -38970.00\n               AMAZON FEE                         AMAZONFEE        -17836.46\n               Adjust bad debt                            B        -11062.06\n...                                                     ...              ...\nAustralia      VINTAGE CHRISTMAS TABLECLOTH           23314          1039.00\nSpain          PINK 3 PIECE POLKADOT CUTLERY SET     84997D          1220.40\n               BLUE 3 PIECE POLKADOT CUTLERY SET     84997C          1220.40\nAustralia      FELTCRAFT CHRISTMAS FAIRY              22940          1260.00\nUnited Kingdom TEA TIME TEA TOWELS                   47556B          2730.00\n\n[20176 rows x 2 columns]",
            "text/html": "<div>\n<style scoped>\n    .dataframe tbody tr th:only-of-type {\n        vertical-align: middle;\n    }\n\n    .dataframe tbody tr th {\n        vertical-align: top;\n    }\n\n    .dataframe thead th {\n        text-align: right;\n    }\n</style>\n<table border=\"1\" class=\"dataframe\">\n  <thead>\n    <tr style=\"text-align: right;\">\n      <th></th>\n      <th></th>\n      <th>StockCode</th>\n      <th>TotalOnInvoices</th>\n    </tr>\n    <tr>\n      <th>Country</th>\n      <th>Description</th>\n      <th></th>\n      <th></th>\n    </tr>\n  </thead>\n  <tbody>\n    <tr>\n      <th rowspan=\"5\" valign=\"top\">United Kingdom</th>\n      <th>PAPER CRAFT , LITTLE BIRDIE</th>\n      <td>23843</td>\n      <td>-168469.60</td>\n    </tr>\n    <tr>\n      <th>MEDIUM CERAMIC TOP STORAGE JAR</th>\n      <td>23166</td>\n      <td>-77183.60</td>\n    </tr>\n    <tr>\n      <th>Manual</th>\n      <td>M</td>\n      <td>-38970.00</td>\n    </tr>\n    <tr>\n      <th>AMAZON FEE</th>\n      <td>AMAZONFEE</td>\n      <td>-17836.46</td>\n    </tr>\n    <tr>\n      <th>Adjust bad debt</th>\n      <td>B</td>\n      <td>-11062.06</td>\n    </tr>\n    <tr>\n      <th>...</th>\n      <th>...</th>\n      <td>...</td>\n      <td>...</td>\n    </tr>\n    <tr>\n      <th>Australia</th>\n      <th>VINTAGE CHRISTMAS TABLECLOTH</th>\n      <td>23314</td>\n      <td>1039.00</td>\n    </tr>\n    <tr>\n      <th rowspan=\"2\" valign=\"top\">Spain</th>\n      <th>PINK 3 PIECE POLKADOT CUTLERY SET</th>\n      <td>84997D</td>\n      <td>1220.40</td>\n    </tr>\n    <tr>\n      <th>BLUE 3 PIECE POLKADOT CUTLERY SET</th>\n      <td>84997C</td>\n      <td>1220.40</td>\n    </tr>\n    <tr>\n      <th>Australia</th>\n      <th>FELTCRAFT CHRISTMAS FAIRY</th>\n      <td>22940</td>\n      <td>1260.00</td>\n    </tr>\n    <tr>\n      <th>United Kingdom</th>\n      <th>TEA TIME TEA TOWELS</th>\n      <td>47556B</td>\n      <td>2730.00</td>\n    </tr>\n  </tbody>\n</table>\n<p>20176 rows × 2 columns</p>\n</div>"
          },
          "metadata": {}
        }
      ],
      "id": "b4dba988-492d-4315-910d-75d2cdf4f68d"
    },
    {
      "cell_type": "code",
      "source": "",
      "metadata": {},
      "execution_count": null,
      "outputs": [],
      "id": "e98adc99-b88a-46ea-93df-45561a52466c"
    }
  ]
}